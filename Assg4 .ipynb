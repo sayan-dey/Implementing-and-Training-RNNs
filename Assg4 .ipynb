{
  "nbformat": 4,
  "nbformat_minor": 0,
  "metadata": {
    "colab": {
      "provenance": []
    },
    "kernelspec": {
      "name": "python3",
      "display_name": "Python 3"
    },
    "language_info": {
      "name": "python"
    }
  },
  "cells": [
    {
      "cell_type": "code",
      "execution_count": 69,
      "metadata": {
        "id": "XsJLpFAUt5ep"
      },
      "outputs": [],
      "source": [
        "#importing libraries \n",
        "import pandas as pd \n",
        "import numpy as np\n",
        "import random\n",
        "import math\n",
        "import matplotlib.pyplot as plt\n",
        "\n",
        "import warnings\n",
        "warnings.filterwarnings(\"ignore\")"
      ]
    },
    {
      "cell_type": "markdown",
      "source": [
        "# **Creating Dataset**"
      ],
      "metadata": {
        "id": "tqVdq2KIWw0t"
      }
    },
    {
      "cell_type": "code",
      "source": [
        "\n",
        "\n",
        "# Set the random seed for reproducibility\n",
        "np.random.seed(42)\n",
        "\n",
        "# Defining the number of samples in the dataset\n",
        "num_samples = 5000\n",
        "\n",
        "# Defining the maximum length of each sequence\n",
        "max_seq_len = 50\n",
        "\n",
        "# Generate the dataset\n",
        "X = []\n",
        "Y = []\n",
        "for i in range(num_samples):\n",
        "    # Generate a random sequence of variable length\n",
        "    # seq_len = np.random.randint(1, max_seq_len+1)\n",
        "    seq_len = 10\n",
        "    x1 = np.random.rand(seq_len, 1) #all numbers between 0 and 1\n",
        "   \n",
        "    # Generate a random binary label\n",
        "    x2 = np.random.randint(1, size=seq_len) #all zeroes\n",
        "    \n",
        "    indices = random.sample(range(seq_len), k=2) #choosing two random indices of the sequence whose 2nd dim will be replaced by 1\n",
        "    x2[indices[0]] = 1\n",
        "    x2[indices[1]] = 1\n",
        "\n",
        "    x2=x2.reshape(seq_len,1)\n",
        "    x = np.concatenate((x1, x2), axis=1) #array of shape: (seq_len,2)\n",
        "    # print(x1.shape)\n",
        "    # print(x2.shape)\n",
        "    # print(x.shape)\n",
        "    X.append(x)\n",
        "\n",
        "\n",
        "for i in range(num_samples): #X.shape[0]\n",
        "  sum = 0\n",
        "  for j in range(X[i].shape[0]):\n",
        "    if X[i][j][1] == 1:\n",
        "      sum=sum+X[i][j][0]\n",
        "  Y.append(sum)\n",
        "\n",
        "# Convert the dataset to numpy arrays\n",
        "X = np.array(X) #datapoints\n",
        "Y = np.array(Y) #labels\n",
        "Y = Y.reshape(5000,1)\n",
        "  \n",
        "\n"
      ],
      "metadata": {
        "id": "C1ELF6fUB5W2"
      },
      "execution_count": 70,
      "outputs": []
    },
    {
      "cell_type": "code",
      "source": [
        "print(X[0][5][0]) #1st dim of 6th sequence of 1st datapoint (out of 5000 datapoints)\n",
        "print(X[0][5][1]) #2nd dim of 6th sequence of 1st datapoint (out of 5000 datapoints)"
      ],
      "metadata": {
        "colab": {
          "base_uri": "https://localhost:8080/"
        },
        "id": "FhMPpmUgB7EN",
        "outputId": "d0e54771-44e3-40fd-e5c8-1992b7a9018d"
      },
      "execution_count": 71,
      "outputs": [
        {
          "output_type": "stream",
          "name": "stdout",
          "text": [
            "0.15599452033620265\n",
            "0.0\n"
          ]
        }
      ]
    },
    {
      "cell_type": "code",
      "source": [
        "print(X[0].shape)"
      ],
      "metadata": {
        "colab": {
          "base_uri": "https://localhost:8080/"
        },
        "id": "j9eTUZBMJ6F4",
        "outputId": "1f8716ec-353f-4bcb-f04f-58e7b9053a84"
      },
      "execution_count": 72,
      "outputs": [
        {
          "output_type": "stream",
          "name": "stdout",
          "text": [
            "(10, 2)\n"
          ]
        }
      ]
    },
    {
      "cell_type": "code",
      "source": [
        "print(Y[4900])"
      ],
      "metadata": {
        "colab": {
          "base_uri": "https://localhost:8080/"
        },
        "id": "Uld8h2PySXMG",
        "outputId": "b972c11d-141c-4f75-974e-e049cc785e50"
      },
      "execution_count": 73,
      "outputs": [
        {
          "output_type": "stream",
          "name": "stdout",
          "text": [
            "[1.14940028]\n"
          ]
        }
      ]
    },
    {
      "cell_type": "code",
      "source": [
        "print(X.shape) # 5000xnx2\n",
        "print(Y.shape) #5000x1"
      ],
      "metadata": {
        "colab": {
          "base_uri": "https://localhost:8080/"
        },
        "id": "YiR2Y3bkWwgE",
        "outputId": "faf1cb2d-4c15-4dbe-b6fc-66b1dd92edbb"
      },
      "execution_count": 74,
      "outputs": [
        {
          "output_type": "stream",
          "name": "stdout",
          "text": [
            "(5000, 10, 2)\n",
            "(5000, 1)\n"
          ]
        }
      ]
    },
    {
      "cell_type": "markdown",
      "source": [
        "Dividing the dataset into a train set and a test set"
      ],
      "metadata": {
        "id": "WxeJTMNuHfPf"
      }
    },
    {
      "cell_type": "code",
      "source": [
        "from sklearn.model_selection import train_test_split\n",
        "\n",
        "\n",
        "X_train, X_test, y_train, y_test = train_test_split(X, Y, test_size=0.2, random_state=42)\n"
      ],
      "metadata": {
        "id": "hfQfgdUMG-c7"
      },
      "execution_count": 75,
      "outputs": []
    },
    {
      "cell_type": "code",
      "source": [
        "print(X_train.shape)\n",
        "print(y_train.shape)\n",
        "print(X_test.shape)\n",
        "print(y_test.shape)\n",
        "\n",
        "# print(X_test[500])\n",
        "# print(y_test[500])"
      ],
      "metadata": {
        "id": "D6KtuX_TVFMj",
        "colab": {
          "base_uri": "https://localhost:8080/"
        },
        "outputId": "ba3ffecf-139b-4e65-8b3e-dc07955cc667"
      },
      "execution_count": 76,
      "outputs": [
        {
          "output_type": "stream",
          "name": "stdout",
          "text": [
            "(4000, 10, 2)\n",
            "(4000, 1)\n",
            "(1000, 10, 2)\n",
            "(1000, 1)\n"
          ]
        }
      ]
    },
    {
      "cell_type": "code",
      "source": [],
      "metadata": {
        "id": "t6LIhRyTHoJa"
      },
      "execution_count": null,
      "outputs": []
    },
    {
      "cell_type": "markdown",
      "source": [
        "Sigmoid activation function"
      ],
      "metadata": {
        "id": "hIcwm6jwbbIi"
      }
    },
    {
      "cell_type": "code",
      "source": [
        "def sigmoid(x):\n",
        "  return 1 / (1 + np.exp(-x))"
      ],
      "metadata": {
        "id": "HHdc-w4yXSQm"
      },
      "execution_count": 9,
      "outputs": []
    },
    {
      "cell_type": "markdown",
      "source": [
        "# **Elmon Network**"
      ],
      "metadata": {
        "id": "GAteUBZzbqov"
      }
    },
    {
      "cell_type": "code",
      "source": [
        "import torch\n",
        "import torch.nn as nn\n",
        "import torch.optim as optim\n",
        "\n",
        "class ElmanNet(torch.nn.Module):\n",
        "    def __init__(self, input_size, hidden_size, output_size):\n",
        "        super(ElmanNet, self).__init__()\n",
        "        self.hidden_size = hidden_size\n",
        "        \n",
        "        # Initialize the weight matrices and bias vectors\n",
        "        self.weight_ih = torch.randn(input_size, hidden_size)\n",
        "        self.weight_hh = torch.randn(hidden_size, hidden_size)\n",
        "        self.bias = torch.zeros(1, hidden_size)\n",
        "        \n",
        "        # Initialize the linear layer\n",
        "        self.linear = torch.nn.Linear(hidden_size, output_size)\n",
        "        \n",
        "    def forward(self, inputs):\n",
        "        batch_size, seq_length, input_size = inputs.shape\n",
        "        inputs = inputs.transpose(0, 1)  # transpose to (seq_length, batch_size, input_size)\n",
        "        \n",
        "        # Initialize the hidden state\n",
        "        self.hidden = torch.zeros(batch_size, self.hidden_size)\n",
        "\n",
        "        # Loop through the sequence\n",
        "        for i in range(seq_length):\n",
        "            # Compute the hidden state\n",
        "            self.hidden = torch.tanh(torch.mm(inputs[i], self.weight_ih) + torch.mm(self.hidden, self.weight_hh) + self.bias)\n",
        "\n",
        "        # Compute the output\n",
        "        output = self.linear(self.hidden)\n",
        "\n",
        "        return output\n"
      ],
      "metadata": {
        "id": "PJPqKh4bbvr2"
      },
      "execution_count": 77,
      "outputs": []
    },
    {
      "cell_type": "code",
      "source": [
        "# Initializing the Elman Network\n",
        "input_size = 2 #as each input sequence has depth = 2\n",
        "hidden_size = 128\n",
        "output_size = 1 #as we are predicting a single binary output value at each time step.\n",
        "model = ElmanNet(input_size, hidden_size, output_size)\n",
        "\n",
        "# Define the loss function and optimizer\n",
        "criterion = nn.MSELoss()\n",
        "optimizer = optim.Adam(model.parameters(), lr=0.005)"
      ],
      "metadata": {
        "id": "xqRJexuubvr4"
      },
      "execution_count": 78,
      "outputs": []
    },
    {
      "cell_type": "markdown",
      "source": [
        "Training the Elman Network"
      ],
      "metadata": {
        "id": "5tcmqQT0bvr5"
      }
    },
    {
      "cell_type": "code",
      "source": [
        "train_data = torch.from_numpy(X_train).float()\n",
        "train_labels = torch.from_numpy(y_train).float()\n",
        "\n",
        "# Training loop\n",
        "num_epochs = 100\n",
        "batch_size = 128\n",
        "elman_losses = []\n",
        "for epoch in range(num_epochs):\n",
        "    running_loss = 0.0\n",
        "    for i in range(0, len(train_data), batch_size):\n",
        "        # Get the current batch\n",
        "        inputs = train_data[i:i+batch_size]\n",
        "        labels = train_labels[i:i+batch_size]\n",
        "\n",
        "        # Clear the gradients\n",
        "        optimizer.zero_grad()\n",
        "\n",
        "        # Forward pass\n",
        "        outputs = model(inputs)\n",
        "        # print('outputs: ',outputs.shape)\n",
        "        # print('labels: ', labels.shape)\n",
        "\n",
        "        # Computing the loss\n",
        "        loss = criterion(outputs, labels)\n",
        "\n",
        "        # Backward pass and optimization\n",
        "        loss.backward()\n",
        "        optimizer.step()\n",
        "\n",
        "        running_loss += loss.item()\n",
        "\n",
        "    print(f\"Epoch {epoch+1}, Elman Training Loss: {running_loss}\")\n",
        "    elman_losses.append(running_loss)"
      ],
      "metadata": {
        "colab": {
          "base_uri": "https://localhost:8080/"
        },
        "outputId": "e82f8461-4a1b-49f4-fdcc-4e7c010d259b",
        "id": "TsduTY3Kbvr5"
      },
      "execution_count": 79,
      "outputs": [
        {
          "output_type": "stream",
          "name": "stdout",
          "text": [
            "Epoch 1, Elman Training Loss: 18.289664685726166\n",
            "Epoch 2, Elman Training Loss: 10.000224620103836\n",
            "Epoch 3, Elman Training Loss: 8.340704053640366\n",
            "Epoch 4, Elman Training Loss: 7.499967321753502\n",
            "Epoch 5, Elman Training Loss: 6.89403510093689\n",
            "Epoch 6, Elman Training Loss: 6.422660201787949\n",
            "Epoch 7, Elman Training Loss: 6.057969897985458\n",
            "Epoch 8, Elman Training Loss: 5.782413840293884\n",
            "Epoch 9, Elman Training Loss: 5.580442652106285\n",
            "Epoch 10, Elman Training Loss: 5.437134400010109\n",
            "Epoch 11, Elman Training Loss: 5.338877782225609\n",
            "Epoch 12, Elman Training Loss: 5.274006247520447\n",
            "Epoch 13, Elman Training Loss: 5.23303547501564\n",
            "Epoch 14, Elman Training Loss: 5.208604604005814\n",
            "Epoch 15, Elman Training Loss: 5.1952332109212875\n",
            "Epoch 16, Elman Training Loss: 5.188993394374847\n",
            "Epoch 17, Elman Training Loss: 5.18717060983181\n",
            "Epoch 18, Elman Training Loss: 5.187952667474747\n",
            "Epoch 19, Elman Training Loss: 5.190170854330063\n",
            "Epoch 20, Elman Training Loss: 5.193098857998848\n",
            "Epoch 21, Elman Training Loss: 5.196302369236946\n",
            "Epoch 22, Elman Training Loss: 5.199534192681313\n",
            "Epoch 23, Elman Training Loss: 5.202662333846092\n",
            "Epoch 24, Elman Training Loss: 5.205623686313629\n",
            "Epoch 25, Elman Training Loss: 5.208393901586533\n",
            "Epoch 26, Elman Training Loss: 5.210970059037209\n",
            "Epoch 27, Elman Training Loss: 5.213359907269478\n",
            "Epoch 28, Elman Training Loss: 5.215575575828552\n",
            "Epoch 29, Elman Training Loss: 5.21763114631176\n",
            "Epoch 30, Elman Training Loss: 5.219540491700172\n",
            "Epoch 31, Elman Training Loss: 5.221316277980804\n",
            "Epoch 32, Elman Training Loss: 5.222970426082611\n",
            "Epoch 33, Elman Training Loss: 5.22451351583004\n",
            "Epoch 34, Elman Training Loss: 5.225955098867416\n",
            "Epoch 35, Elman Training Loss: 5.2273033410310745\n",
            "Epoch 36, Elman Training Loss: 5.228566095232964\n",
            "Epoch 37, Elman Training Loss: 5.2297500520944595\n",
            "Epoch 38, Elman Training Loss: 5.230861306190491\n",
            "Epoch 39, Elman Training Loss: 5.231905400753021\n",
            "Epoch 40, Elman Training Loss: 5.232887372374535\n",
            "Epoch 41, Elman Training Loss: 5.2338118851184845\n",
            "Epoch 42, Elman Training Loss: 5.2346828281879425\n",
            "Epoch 43, Elman Training Loss: 5.235504239797592\n",
            "Epoch 44, Elman Training Loss: 5.2362793534994125\n",
            "Epoch 45, Elman Training Loss: 5.237011536955833\n",
            "Epoch 46, Elman Training Loss: 5.237703487277031\n",
            "Epoch 47, Elman Training Loss: 5.238358125090599\n",
            "Epoch 48, Elman Training Loss: 5.238977625966072\n",
            "Epoch 49, Elman Training Loss: 5.239564433693886\n",
            "Epoch 50, Elman Training Loss: 5.240120753645897\n",
            "Epoch 51, Elman Training Loss: 5.240648031234741\n",
            "Epoch 52, Elman Training Loss: 5.241148397326469\n",
            "Epoch 53, Elman Training Loss: 5.241623565554619\n",
            "Epoch 54, Elman Training Loss: 5.242074832320213\n",
            "Epoch 55, Elman Training Loss: 5.24250365793705\n",
            "Epoch 56, Elman Training Loss: 5.242911413311958\n",
            "Epoch 57, Elman Training Loss: 5.243299350142479\n",
            "Epoch 58, Elman Training Loss: 5.243668586015701\n",
            "Epoch 59, Elman Training Loss: 5.244020059704781\n",
            "Epoch 60, Elman Training Loss: 5.244354769587517\n",
            "Epoch 61, Elman Training Loss: 5.244673922657967\n",
            "Epoch 62, Elman Training Loss: 5.244978025555611\n",
            "Epoch 63, Elman Training Loss: 5.245267897844315\n",
            "Epoch 64, Elman Training Loss: 5.245544418692589\n",
            "Epoch 65, Elman Training Loss: 5.245808467268944\n",
            "Epoch 66, Elman Training Loss: 5.246060431003571\n",
            "Epoch 67, Elman Training Loss: 5.246301040053368\n",
            "Epoch 68, Elman Training Loss: 5.246530637145042\n",
            "Epoch 69, Elman Training Loss: 5.24674990773201\n",
            "Epoch 70, Elman Training Loss: 5.246959716081619\n",
            "Epoch 71, Elman Training Loss: 5.247160151600838\n",
            "Epoch 72, Elman Training Loss: 5.247351691126823\n",
            "Epoch 73, Elman Training Loss: 5.24753475189209\n",
            "Epoch 74, Elman Training Loss: 5.247709959745407\n",
            "Epoch 75, Elman Training Loss: 5.247877582907677\n",
            "Epoch 76, Elman Training Loss: 5.248037859797478\n",
            "Epoch 77, Elman Training Loss: 5.248191311955452\n",
            "Epoch 78, Elman Training Loss: 5.248338058590889\n",
            "Epoch 79, Elman Training Loss: 5.248478636145592\n",
            "Epoch 80, Elman Training Loss: 5.248613148927689\n",
            "Epoch 81, Elman Training Loss: 5.248741939663887\n",
            "Epoch 82, Elman Training Loss: 5.248865365982056\n",
            "Epoch 83, Elman Training Loss: 5.2489834278821945\n",
            "Epoch 84, Elman Training Loss: 5.249096587300301\n",
            "Epoch 85, Elman Training Loss: 5.249205112457275\n",
            "Epoch 86, Elman Training Loss: 5.249308943748474\n",
            "Epoch 87, Elman Training Loss: 5.249408468604088\n",
            "Epoch 88, Elman Training Loss: 5.24950385093689\n",
            "Epoch 89, Elman Training Loss: 5.249595209956169\n",
            "Epoch 90, Elman Training Loss: 5.249682813882828\n",
            "Epoch 91, Elman Training Loss: 5.249766767024994\n",
            "Epoch 92, Elman Training Loss: 5.249847203493118\n",
            "Epoch 93, Elman Training Loss: 5.249924287199974\n",
            "Epoch 94, Elman Training Loss: 5.249998226761818\n",
            "Epoch 95, Elman Training Loss: 5.250069215893745\n",
            "Epoch 96, Elman Training Loss: 5.250137001276016\n",
            "Epoch 97, Elman Training Loss: 5.250202178955078\n",
            "Epoch 98, Elman Training Loss: 5.250264823436737\n",
            "Epoch 99, Elman Training Loss: 5.250324681401253\n",
            "Epoch 100, Elman Training Loss: 5.25038206577301\n"
          ]
        }
      ]
    },
    {
      "cell_type": "markdown",
      "source": [
        "Getting predictions as well as measuring performance of the Elman Network "
      ],
      "metadata": {
        "id": "iuXEfMQ1bvr7"
      }
    },
    {
      "cell_type": "code",
      "source": [
        "# Will use the updated Elman Network \n",
        "\n",
        "X_test_tensor = torch.from_numpy(X_test).float()\n",
        "y_test_tensor = torch.from_numpy(y_test)\n",
        "batch_size = 128\n",
        "\n",
        "# Evaluating the model on test set (1000 datapoints)\n",
        "with torch.no_grad():  #disabling gradient calculation (as inferencing)\n",
        "    \n",
        "    # Split the data into batches of size batch_size\n",
        "    num_batches = len(X_test_tensor) // batch_size\n",
        "    test_data_batches = torch.split(X_test_tensor[:num_batches*batch_size], batch_size)\n",
        "    test_label_batches = torch.split(y_test_tensor[:num_batches*batch_size], batch_size)\n",
        "    \n",
        "\n",
        "    test_loss = 0.0\n",
        "    num_batches = 0\n",
        "\n",
        "    # Making predictions for each batch\n",
        "    for test_data, test_labels in zip(test_data_batches, test_label_batches):\n",
        "        \n",
        "        # Pass the test data through the Elman Net model, updated by training \n",
        "        outputs = model(test_data)\n",
        "\n",
        "        # Computing the MSE between predicted outputs and Ground truth labels\n",
        "        loss = nn.MSELoss()(outputs, test_labels)\n",
        "        \n",
        "        # Accumulating the loss\n",
        "        test_loss += loss.item()\n",
        "        num_batches += 1\n",
        "\n",
        "\n",
        "# Computing the average test loss over all batches\n",
        "test_loss /= num_batches\n",
        "\n",
        "print(\"Test Loss for Elman Network: {:.6f}\".format(test_loss))\n",
        "elman_mse = test_loss"
      ],
      "metadata": {
        "colab": {
          "base_uri": "https://localhost:8080/"
        },
        "outputId": "06a772a6-da33-43e2-a129-f2c07fcef146",
        "id": "nNlV2CEfbvr7"
      },
      "execution_count": 80,
      "outputs": [
        {
          "output_type": "stream",
          "name": "stdout",
          "text": [
            "Test Loss for Elman Network: 0.177413\n"
          ]
        }
      ]
    },
    {
      "cell_type": "code",
      "source": [],
      "metadata": {
        "id": "cYBtFP9VxBZc"
      },
      "execution_count": null,
      "outputs": []
    },
    {
      "cell_type": "markdown",
      "source": [
        "# **LSTM**"
      ],
      "metadata": {
        "id": "bXmm7hqtRhsX"
      }
    },
    {
      "cell_type": "code",
      "source": [
        "class LSTM(nn.Module):\n",
        "    def __init__(self, input_size, hidden_size, output_size):\n",
        "        super(LSTM, self).__init__()\n",
        "\n",
        "        self.input_size = input_size\n",
        "        self.hidden_size = hidden_size\n",
        "        self.output_size = output_size\n",
        "\n",
        "        # Initialize the weight matrices\n",
        "        self.weight_ih = nn.Parameter(torch.Tensor(input_size, 4 * hidden_size))\n",
        "        self.weight_hh = nn.Parameter(torch.Tensor(hidden_size, 4 * hidden_size))\n",
        "        self.bias = nn.Parameter(torch.Tensor(4 * hidden_size))\n",
        "\n",
        "        # Initialize the output layer\n",
        "        self.linear = nn.Linear(hidden_size, output_size)\n",
        "\n",
        "        # Initialize the hidden state and cell state\n",
        "        self.hidden = None\n",
        "        self.cell_state = None\n",
        "\n",
        "        # Initialize the weights and biases\n",
        "        self.init_weights()\n",
        "\n",
        "    def forward(self, inputs):\n",
        "        # seq_length, batch_size, input_size = inputs.shape\n",
        "        batch_size, seq_length, input_size = inputs.shape\n",
        "        inputs = inputs.transpose(0, 1)  # transpose to (seq_length, batch_size, input_size)\n",
        "\n",
        "        # print(inputs.shape)\n",
        "        # print(inputs[0].shape)\n",
        "\n",
        "        # Initialize the hidden state and cell state\n",
        "        self.hidden = torch.zeros(batch_size, self.hidden_size)\n",
        "        \n",
        "        self.cell_state = torch.zeros(batch_size, self.hidden_size)\n",
        "      \n",
        "\n",
        "        # Loop through the sequence\n",
        "        for i in range(seq_length):\n",
        "            # Compute the input gate, forget gate, output gate, and candidate gate\n",
        "            \n",
        "            gates = torch.mm(inputs[i], self.weight_ih) + torch.mm(self.hidden, self.weight_hh) + self.bias\n",
        "            \n",
        "            input_gate, forget_gate, output_gate, candidate_gate = gates.chunk(4, 1)\n",
        "\n",
        "            # Apply the sigmoid activation function\n",
        "            input_gate = torch.sigmoid(input_gate)\n",
        "            forget_gate = torch.sigmoid(forget_gate)\n",
        "            output_gate = torch.sigmoid(output_gate)\n",
        "\n",
        "            # Apply the tanh activation function\n",
        "            candidate_gate = torch.tanh(candidate_gate)\n",
        "\n",
        "            # Compute the new cell state and hidden state\n",
        "            self.cell_state = forget_gate * self.cell_state + input_gate * candidate_gate\n",
        "            self.hidden = output_gate * torch.tanh(self.cell_state)\n",
        "\n",
        "        # Compute the output\n",
        "        output = self.linear(self.hidden)\n",
        "\n",
        "        return output\n",
        "\n",
        "    def init_weights(self):\n",
        "        # Initialize the weights with a normal distribution\n",
        "        nn.init.normal_(self.weight_ih, 0.0, 0.02)\n",
        "        nn.init.normal_(self.weight_hh, 0.0, 0.02)\n",
        "        nn.init.normal_(self.bias, 0.0, 0.02)\n",
        "        nn.init.normal_(self.linear.weight, 0.0, 0.02)\n",
        "        nn.init.normal_(self.linear.bias, 0.0, 0.02)\n",
        "\n",
        "\n",
        "\n",
        "\n"
      ],
      "metadata": {
        "id": "1YtdHsjhV_BH"
      },
      "execution_count": 81,
      "outputs": []
    },
    {
      "cell_type": "code",
      "source": [
        "# Initializing the LSTM network\n",
        "input_size = 2\n",
        "hidden_size = 128\n",
        "output_size = 1\n",
        "model = LSTM(input_size, hidden_size, output_size)\n",
        "\n",
        "# Define the loss function and optimizer\n",
        "criterion = nn.MSELoss()\n",
        "optimizer = optim.Adam(model.parameters(), lr=0.005)\n",
        "\n",
        "\n",
        "\n"
      ],
      "metadata": {
        "id": "en3pzLbYvI0z"
      },
      "execution_count": 82,
      "outputs": []
    },
    {
      "cell_type": "markdown",
      "source": [
        "Training the LSTM"
      ],
      "metadata": {
        "id": "q6lrP2mHvjfD"
      }
    },
    {
      "cell_type": "code",
      "source": [
        "train_data = torch.from_numpy(X_train).float()\n",
        "train_labels = torch.from_numpy(y_train).float()\n",
        "\n",
        "# Training loop\n",
        "num_epochs = 100\n",
        "batch_size = 128\n",
        "lstm_losses = []\n",
        "for epoch in range(num_epochs):\n",
        "    running_loss = 0.0\n",
        "    for i in range(0, len(train_data), batch_size):\n",
        "        # Get the current batch\n",
        "        inputs = train_data[i:i+batch_size]\n",
        "        labels = train_labels[i:i+batch_size]\n",
        "\n",
        "        # Clear the gradients\n",
        "        optimizer.zero_grad()\n",
        "\n",
        "        # Forward pass\n",
        "        outputs = model(inputs)\n",
        "        # print('outputs: ',outputs.shape)\n",
        "        # print('labels: ', labels.shape)\n",
        "\n",
        "        # Computing the loss\n",
        "        loss = criterion(outputs, labels)\n",
        "\n",
        "        # Backward pass and optimization\n",
        "        loss.backward()\n",
        "        optimizer.step()\n",
        "\n",
        "        running_loss += loss.item()\n",
        "\n",
        "    print(f\"Epoch {epoch+1}, LSTM Training Loss: {running_loss}\")\n",
        "    lstm_losses.append(running_loss)\n"
      ],
      "metadata": {
        "colab": {
          "base_uri": "https://localhost:8080/"
        },
        "id": "Xt1Jt_LjviJn",
        "outputId": "622fe713-4224-4975-e466-5f3a84d60b17"
      },
      "execution_count": 83,
      "outputs": [
        {
          "output_type": "stream",
          "name": "stdout",
          "text": [
            "Epoch 1, LSTM Training Loss: 18.73641885817051\n",
            "Epoch 2, LSTM Training Loss: 5.34566105902195\n",
            "Epoch 3, LSTM Training Loss: 5.057914853096008\n",
            "Epoch 4, LSTM Training Loss: 5.0136245265603065\n",
            "Epoch 5, LSTM Training Loss: 4.90203058719635\n",
            "Epoch 6, LSTM Training Loss: 4.717830985784531\n",
            "Epoch 7, LSTM Training Loss: 4.365478374063969\n",
            "Epoch 8, LSTM Training Loss: 4.217089854180813\n",
            "Epoch 9, LSTM Training Loss: 4.1334880366921425\n",
            "Epoch 10, LSTM Training Loss: 4.026603251695633\n",
            "Epoch 11, LSTM Training Loss: 3.7626515552401543\n",
            "Epoch 12, LSTM Training Loss: 2.800171732902527\n",
            "Epoch 13, LSTM Training Loss: 1.053887820802629\n",
            "Epoch 14, LSTM Training Loss: 0.6188005786389112\n",
            "Epoch 15, LSTM Training Loss: 0.42204575799405575\n",
            "Epoch 16, LSTM Training Loss: 0.31988499453291297\n",
            "Epoch 17, LSTM Training Loss: 0.2543841013684869\n",
            "Epoch 18, LSTM Training Loss: 0.2162221116013825\n",
            "Epoch 19, LSTM Training Loss: 0.17265726439654827\n",
            "Epoch 20, LSTM Training Loss: 0.12480153236538172\n",
            "Epoch 21, LSTM Training Loss: 0.10756745166145265\n",
            "Epoch 22, LSTM Training Loss: 0.09556223184335977\n",
            "Epoch 23, LSTM Training Loss: 0.08257446880452335\n",
            "Epoch 24, LSTM Training Loss: 0.07056791975628585\n",
            "Epoch 25, LSTM Training Loss: 0.05983175500296056\n",
            "Epoch 26, LSTM Training Loss: 0.048365975730121136\n",
            "Epoch 27, LSTM Training Loss: 0.03606404032325372\n",
            "Epoch 28, LSTM Training Loss: 0.030993273598141968\n",
            "Epoch 29, LSTM Training Loss: 0.030807105475105345\n",
            "Epoch 30, LSTM Training Loss: 0.02830720378551632\n",
            "Epoch 31, LSTM Training Loss: 0.023052881442708895\n",
            "Epoch 32, LSTM Training Loss: 0.018348720826907083\n",
            "Epoch 33, LSTM Training Loss: 0.017811928177252412\n",
            "Epoch 34, LSTM Training Loss: 0.014107897906797007\n",
            "Epoch 35, LSTM Training Loss: 0.012697836587904021\n",
            "Epoch 36, LSTM Training Loss: 0.012385183159494773\n",
            "Epoch 37, LSTM Training Loss: 0.011732920975191519\n",
            "Epoch 38, LSTM Training Loss: 0.012449961301172152\n",
            "Epoch 39, LSTM Training Loss: 0.01169578725239262\n",
            "Epoch 40, LSTM Training Loss: 0.011057925250497647\n",
            "Epoch 41, LSTM Training Loss: 0.01226982411753852\n",
            "Epoch 42, LSTM Training Loss: 0.014535698865074664\n",
            "Epoch 43, LSTM Training Loss: 0.01303389048553072\n",
            "Epoch 44, LSTM Training Loss: 0.01676734202192165\n",
            "Epoch 45, LSTM Training Loss: 0.022245855085202493\n",
            "Epoch 46, LSTM Training Loss: 0.018821485922671854\n",
            "Epoch 47, LSTM Training Loss: 0.012832426466047764\n",
            "Epoch 48, LSTM Training Loss: 0.008920344494981691\n",
            "Epoch 49, LSTM Training Loss: 0.010478666183189489\n",
            "Epoch 50, LSTM Training Loss: 0.01734931235841941\n",
            "Epoch 51, LSTM Training Loss: 0.011683016302413307\n",
            "Epoch 52, LSTM Training Loss: 0.012840416500694118\n",
            "Epoch 53, LSTM Training Loss: 0.016372881858842447\n",
            "Epoch 54, LSTM Training Loss: 0.011284540873020887\n",
            "Epoch 55, LSTM Training Loss: 0.013295045573613606\n",
            "Epoch 56, LSTM Training Loss: 0.013186656913603656\n",
            "Epoch 57, LSTM Training Loss: 0.009628513755160384\n",
            "Epoch 58, LSTM Training Loss: 0.012265081371879205\n",
            "Epoch 59, LSTM Training Loss: 0.008461301833449397\n",
            "Epoch 60, LSTM Training Loss: 0.03251454756536987\n",
            "Epoch 61, LSTM Training Loss: 0.03713234209863003\n",
            "Epoch 62, LSTM Training Loss: 0.01693648172658868\n",
            "Epoch 63, LSTM Training Loss: 0.007944029588543344\n",
            "Epoch 64, LSTM Training Loss: 0.007166632800363004\n",
            "Epoch 65, LSTM Training Loss: 0.007717540967860259\n",
            "Epoch 66, LSTM Training Loss: 0.008573132246965542\n",
            "Epoch 67, LSTM Training Loss: 0.016658448235830292\n",
            "Epoch 68, LSTM Training Loss: 0.011444938267231919\n",
            "Epoch 69, LSTM Training Loss: 0.01074570508353645\n",
            "Epoch 70, LSTM Training Loss: 0.014083030866459012\n",
            "Epoch 71, LSTM Training Loss: 0.012142896288423799\n",
            "Epoch 72, LSTM Training Loss: 0.010062268382171169\n",
            "Epoch 73, LSTM Training Loss: 0.012669049741816707\n",
            "Epoch 74, LSTM Training Loss: 0.015030246882815845\n",
            "Epoch 75, LSTM Training Loss: 0.00925777178053977\n",
            "Epoch 76, LSTM Training Loss: 0.009971363193471916\n",
            "Epoch 77, LSTM Training Loss: 0.014957998981117271\n",
            "Epoch 78, LSTM Training Loss: 0.013415220302704256\n",
            "Epoch 79, LSTM Training Loss: 0.010705063243221957\n",
            "Epoch 80, LSTM Training Loss: 0.013549657029216178\n",
            "Epoch 81, LSTM Training Loss: 0.01491492990317056\n",
            "Epoch 82, LSTM Training Loss: 0.008888612748705782\n",
            "Epoch 83, LSTM Training Loss: 0.008454009621345904\n",
            "Epoch 84, LSTM Training Loss: 0.012253315377165563\n",
            "Epoch 85, LSTM Training Loss: 0.013274587210617028\n",
            "Epoch 86, LSTM Training Loss: 0.007225201814435422\n",
            "Epoch 87, LSTM Training Loss: 0.0063856481574475765\n",
            "Epoch 88, LSTM Training Loss: 0.013363351215957664\n",
            "Epoch 89, LSTM Training Loss: 0.0042187240469502285\n",
            "Epoch 90, LSTM Training Loss: 0.016195932003029156\n",
            "Epoch 91, LSTM Training Loss: 0.013622434962599073\n",
            "Epoch 92, LSTM Training Loss: 0.003816548705799505\n",
            "Epoch 93, LSTM Training Loss: 0.01535927712393459\n",
            "Epoch 94, LSTM Training Loss: 0.025282433387474157\n",
            "Epoch 95, LSTM Training Loss: 0.009377169437357225\n",
            "Epoch 96, LSTM Training Loss: 0.015838742299820296\n",
            "Epoch 97, LSTM Training Loss: 0.018251506458909716\n",
            "Epoch 98, LSTM Training Loss: 0.014717730155098252\n",
            "Epoch 99, LSTM Training Loss: 0.004336060039349832\n",
            "Epoch 100, LSTM Training Loss: 0.009617061252356507\n"
          ]
        }
      ]
    },
    {
      "cell_type": "markdown",
      "source": [
        "Getting predictions as well as measuring performance of the LSTM Model"
      ],
      "metadata": {
        "id": "RmTOxevJ3J2s"
      }
    },
    {
      "cell_type": "code",
      "source": [
        "# Will use the updated LSTM model \n",
        "\n",
        "X_test_tensor = torch.from_numpy(X_test).float()\n",
        "y_test_tensor = torch.from_numpy(y_test)\n",
        "batch_size = 128\n",
        "\n",
        "# Evaluating the model on test set (1000 datapoints)\n",
        "with torch.no_grad():  #disabling gradient calculation (as inferencing)\n",
        "    \n",
        "    # Split the data into batches of size batch_size\n",
        "    num_batches = len(X_test_tensor) // batch_size\n",
        "    test_data_batches = torch.split(X_test_tensor[:num_batches*batch_size], batch_size)\n",
        "    test_label_batches = torch.split(y_test_tensor[:num_batches*batch_size], batch_size)\n",
        "    \n",
        "\n",
        "    test_loss = 0.0\n",
        "    num_batches = 0\n",
        "\n",
        "    # Making predictions for each batch\n",
        "    for test_data, test_labels in zip(test_data_batches, test_label_batches):\n",
        "        \n",
        "        # Pass the test data through the LSTM model, updated by training \n",
        "        outputs = model(test_data)\n",
        "\n",
        "        # Computing the MSE between predicted outputs and Ground truth labels\n",
        "        loss = nn.MSELoss()(outputs, test_labels)\n",
        "        \n",
        "        # Accumulating the loss\n",
        "        test_loss += loss.item()\n",
        "        num_batches += 1\n",
        "\n",
        "\n",
        "# Computing the average test loss over all batches\n",
        "test_loss /= num_batches\n",
        "\n",
        "print(\"Test Loss for LSTM: {:.6f}\".format(test_loss))\n",
        "lstm_mse = test_loss"
      ],
      "metadata": {
        "colab": {
          "base_uri": "https://localhost:8080/"
        },
        "id": "Blrno7ef3DgK",
        "outputId": "a97f8929-4217-4e90-83f6-1011832cd670"
      },
      "execution_count": 84,
      "outputs": [
        {
          "output_type": "stream",
          "name": "stdout",
          "text": [
            "Test Loss for LSTM: 0.000240\n"
          ]
        }
      ]
    },
    {
      "cell_type": "code",
      "source": [],
      "metadata": {
        "id": "CWLECAugvTjJ"
      },
      "execution_count": null,
      "outputs": []
    },
    {
      "cell_type": "markdown",
      "source": [
        "# **GRU**"
      ],
      "metadata": {
        "id": "rY7C9qqW_fG5"
      }
    },
    {
      "cell_type": "code",
      "source": [
        "class GRU(nn.Module):\n",
        "    def __init__(self, input_size, hidden_size, output_size):\n",
        "        super(GRU, self).__init__()\n",
        "        self.hidden_size = hidden_size\n",
        "        \n",
        "        # Initialize the weight matrices and biases\n",
        "        self.weight_ir = nn.Parameter(torch.Tensor(input_size, hidden_size))\n",
        "        self.weight_hr = nn.Parameter(torch.Tensor(hidden_size, hidden_size))\n",
        "        self.bias_r = nn.Parameter(torch.Tensor(hidden_size))\n",
        "        self.weight_iz = nn.Parameter(torch.Tensor(input_size, hidden_size))\n",
        "        self.weight_hz = nn.Parameter(torch.Tensor(hidden_size, hidden_size))\n",
        "        self.bias_z = nn.Parameter(torch.Tensor(hidden_size))\n",
        "        self.weight_in = nn.Parameter(torch.Tensor(input_size, hidden_size))\n",
        "        self.weight_hn = nn.Parameter(torch.Tensor(hidden_size, hidden_size))\n",
        "        self.bias_n = nn.Parameter(torch.Tensor(hidden_size))\n",
        "        self.linear = nn.Linear(hidden_size, output_size)\n",
        "        \n",
        "        # Initialize the parameters\n",
        "        self.init_parameters()\n",
        "        \n",
        "    def init_parameters(self):\n",
        "        # Initialize the weight matrices and biases\n",
        "        nn.init.xavier_uniform_(self.weight_ir)\n",
        "        nn.init.xavier_uniform_(self.weight_hr)\n",
        "        nn.init.zeros_(self.bias_r)\n",
        "        nn.init.xavier_uniform_(self.weight_iz)\n",
        "        nn.init.xavier_uniform_(self.weight_hz)\n",
        "        nn.init.zeros_(self.bias_z)\n",
        "        nn.init.xavier_uniform_(self.weight_in)\n",
        "        nn.init.xavier_uniform_(self.weight_hn)\n",
        "        nn.init.zeros_(self.bias_n)\n",
        "        \n",
        "    def forward(self, inputs):\n",
        "        batch_size, seq_length, input_size = inputs.shape\n",
        "        inputs = inputs.transpose(0, 1)  # transpose to (seq_length, batch_size, input_size)\n",
        "        # print(inputs.shape)\n",
        "        \n",
        "        # Initialize the hidden state\n",
        "        hidden = torch.zeros(batch_size, self.hidden_size)\n",
        "        \n",
        "        # Loop through the sequence\n",
        "        for i in range(seq_length):\n",
        "            # Compute the reset gate\n",
        "            reset_gate = torch.sigmoid(torch.mm(inputs[i], self.weight_ir) + torch.mm(hidden, self.weight_hr) + self.bias_r)\n",
        "            \n",
        "            # Compute the update gate\n",
        "            update_gate = torch.sigmoid(torch.mm(inputs[i], self.weight_iz) + torch.mm(hidden, self.weight_hz) + self.bias_z)\n",
        "            \n",
        "            # Compute the new candidate activations\n",
        "            candidate_activations = torch.tanh(torch.mm(inputs[i], self.weight_in) + reset_gate * torch.mm(hidden, self.weight_hn) + self.bias_n)\n",
        "            \n",
        "            # Compute the new hidden state\n",
        "            hidden = (1 - update_gate) * hidden + update_gate * candidate_activations\n",
        "        \n",
        "        # Compute the output\n",
        "        output = self.linear(hidden)\n",
        "        \n",
        "        return output\n"
      ],
      "metadata": {
        "id": "fsy5t34h_eiT"
      },
      "execution_count": 85,
      "outputs": []
    },
    {
      "cell_type": "code",
      "source": [
        "# Initializing the GRU network\n",
        "input_size = 2\n",
        "hidden_size = 128\n",
        "output_size = 1\n",
        "model = GRU(input_size, hidden_size, output_size)\n",
        "\n",
        "# Define the loss function and optimizer\n",
        "criterion = nn.MSELoss()\n",
        "optimizer = optim.Adam(model.parameters(), lr=0.005)"
      ],
      "metadata": {
        "id": "Q2Hg9xy6_eli"
      },
      "execution_count": 86,
      "outputs": []
    },
    {
      "cell_type": "markdown",
      "source": [
        "Training the GRU"
      ],
      "metadata": {
        "id": "yHYRuh13B_TD"
      }
    },
    {
      "cell_type": "code",
      "source": [
        "train_data = torch.from_numpy(X_train).float()\n",
        "train_labels = torch.from_numpy(y_train).float()\n",
        "\n",
        "# Training loop\n",
        "num_epochs = 100\n",
        "batch_size = 128\n",
        "gru_losses = []\n",
        "for epoch in range(num_epochs):\n",
        "    running_loss = 0.0\n",
        "    for i in range(0, len(train_data), batch_size):\n",
        "        # Get the current batch\n",
        "        inputs = train_data[i:i+batch_size]\n",
        "        labels = train_labels[i:i+batch_size]\n",
        "\n",
        "        # Clear the gradients\n",
        "        optimizer.zero_grad()\n",
        "\n",
        "        # Forward pass\n",
        "        outputs = model(inputs)\n",
        "        # print('outputs: ',outputs.shape)\n",
        "        # print('labels: ', labels.shape)\n",
        "\n",
        "        # Computing the loss\n",
        "        loss = criterion(outputs, labels)\n",
        "\n",
        "        # Backward pass and optimization\n",
        "        loss.backward()\n",
        "        optimizer.step()\n",
        "\n",
        "        running_loss += loss.item()\n",
        "\n",
        "    print(f\"Epoch {epoch+1}, GRU Training Loss: {running_loss}\")\n",
        "    gru_losses.append(running_loss)"
      ],
      "metadata": {
        "colab": {
          "base_uri": "https://localhost:8080/"
        },
        "id": "2V90blWLB-YO",
        "outputId": "e7d8482b-3e21-4986-cdb3-e4a7f270f27b"
      },
      "execution_count": 87,
      "outputs": [
        {
          "output_type": "stream",
          "name": "stdout",
          "text": [
            "Epoch 1, GRU Training Loss: 8.389917127788067\n",
            "Epoch 2, GRU Training Loss: 4.382082901895046\n",
            "Epoch 3, GRU Training Loss: 3.71613273024559\n",
            "Epoch 4, GRU Training Loss: 2.0018900707364082\n",
            "Epoch 5, GRU Training Loss: 0.8639416396617889\n",
            "Epoch 6, GRU Training Loss: 0.49671305157244205\n",
            "Epoch 7, GRU Training Loss: 0.24093755893409252\n",
            "Epoch 8, GRU Training Loss: 0.12714167800731957\n",
            "Epoch 9, GRU Training Loss: 0.0831200018292293\n",
            "Epoch 10, GRU Training Loss: 0.05940751079469919\n",
            "Epoch 11, GRU Training Loss: 0.0448250753688626\n",
            "Epoch 12, GRU Training Loss: 0.03241402131970972\n",
            "Epoch 13, GRU Training Loss: 0.0211391870980151\n",
            "Epoch 14, GRU Training Loss: 0.015219732566038147\n",
            "Epoch 15, GRU Training Loss: 0.012099404659238644\n",
            "Epoch 16, GRU Training Loss: 0.010680001345463097\n",
            "Epoch 17, GRU Training Loss: 0.008155876654200256\n",
            "Epoch 18, GRU Training Loss: 0.007957476715091616\n",
            "Epoch 19, GRU Training Loss: 0.007077291505993344\n",
            "Epoch 20, GRU Training Loss: 0.005408468765381258\n",
            "Epoch 21, GRU Training Loss: 0.005180198299058247\n",
            "Epoch 22, GRU Training Loss: 0.005639060873363633\n",
            "Epoch 23, GRU Training Loss: 0.0066080922915716656\n",
            "Epoch 24, GRU Training Loss: 0.00777702758932719\n",
            "Epoch 25, GRU Training Loss: 0.007749440148472786\n",
            "Epoch 26, GRU Training Loss: 0.007084714088705368\n",
            "Epoch 27, GRU Training Loss: 0.006327183822577354\n",
            "Epoch 28, GRU Training Loss: 0.005244487467280123\n",
            "Epoch 29, GRU Training Loss: 0.003622283777076518\n",
            "Epoch 30, GRU Training Loss: 0.0046766678569838405\n",
            "Epoch 31, GRU Training Loss: 0.006695671836496331\n",
            "Epoch 32, GRU Training Loss: 0.007901588676759275\n",
            "Epoch 33, GRU Training Loss: 0.010004596988437697\n",
            "Epoch 34, GRU Training Loss: 0.004164996829786105\n",
            "Epoch 35, GRU Training Loss: 0.0028961487878405023\n",
            "Epoch 36, GRU Training Loss: 0.0038777722875238396\n",
            "Epoch 37, GRU Training Loss: 0.002414425449387636\n",
            "Epoch 38, GRU Training Loss: 0.0028757638574461453\n",
            "Epoch 39, GRU Training Loss: 0.004066130528372014\n",
            "Epoch 40, GRU Training Loss: 0.00731520590125001\n",
            "Epoch 41, GRU Training Loss: 0.009346644383185776\n",
            "Epoch 42, GRU Training Loss: 0.008424435272900155\n",
            "Epoch 43, GRU Training Loss: 0.003398879707674496\n",
            "Epoch 44, GRU Training Loss: 0.004211773022689158\n",
            "Epoch 45, GRU Training Loss: 0.0032742365801823325\n",
            "Epoch 46, GRU Training Loss: 0.005540096384720528\n",
            "Epoch 47, GRU Training Loss: 0.004758203940582462\n",
            "Epoch 48, GRU Training Loss: 0.005879824337171158\n",
            "Epoch 49, GRU Training Loss: 0.0047699481328891125\n",
            "Epoch 50, GRU Training Loss: 0.0040919499115261715\n",
            "Epoch 51, GRU Training Loss: 0.004012817782495404\n",
            "Epoch 52, GRU Training Loss: 0.003978652732257615\n",
            "Epoch 53, GRU Training Loss: 0.0039921121915540425\n",
            "Epoch 54, GRU Training Loss: 0.00421650491807668\n",
            "Epoch 55, GRU Training Loss: 0.004311126300308388\n",
            "Epoch 56, GRU Training Loss: 0.004468788058147766\n",
            "Epoch 57, GRU Training Loss: 0.004979058054232155\n",
            "Epoch 58, GRU Training Loss: 0.005110740237796563\n",
            "Epoch 59, GRU Training Loss: 0.00508884863302228\n",
            "Epoch 60, GRU Training Loss: 0.006944689313968411\n",
            "Epoch 61, GRU Training Loss: 0.009070160835108254\n",
            "Epoch 62, GRU Training Loss: 0.005994031256705057\n",
            "Epoch 63, GRU Training Loss: 0.0020476656845858088\n",
            "Epoch 64, GRU Training Loss: 0.0013005510245420737\n",
            "Epoch 65, GRU Training Loss: 0.001917907971801469\n",
            "Epoch 66, GRU Training Loss: 0.003249800915000378\n",
            "Epoch 67, GRU Training Loss: 0.005866302009962965\n",
            "Epoch 68, GRU Training Loss: 0.005067364496426308\n",
            "Epoch 69, GRU Training Loss: 0.007574812818347709\n",
            "Epoch 70, GRU Training Loss: 0.008044553003855981\n",
            "Epoch 71, GRU Training Loss: 0.0018132462519133696\n",
            "Epoch 72, GRU Training Loss: 0.0013614897870866116\n",
            "Epoch 73, GRU Training Loss: 0.0016885711593204178\n",
            "Epoch 74, GRU Training Loss: 0.002424355308903614\n",
            "Epoch 75, GRU Training Loss: 0.0050967630741070025\n",
            "Epoch 76, GRU Training Loss: 0.002486659335772856\n",
            "Epoch 77, GRU Training Loss: 0.002831979378242977\n",
            "Epoch 78, GRU Training Loss: 0.028645408274314832\n",
            "Epoch 79, GRU Training Loss: 0.012499849399318919\n",
            "Epoch 80, GRU Training Loss: 0.003648310583230341\n",
            "Epoch 81, GRU Training Loss: 0.0018843047346308595\n",
            "Epoch 82, GRU Training Loss: 0.0024587361767771654\n",
            "Epoch 83, GRU Training Loss: 0.0025389563543285476\n",
            "Epoch 84, GRU Training Loss: 0.0019097701679129386\n",
            "Epoch 85, GRU Training Loss: 0.0012898497516289353\n",
            "Epoch 86, GRU Training Loss: 0.0009976608898796258\n",
            "Epoch 87, GRU Training Loss: 0.0008814348111627623\n",
            "Epoch 88, GRU Training Loss: 0.0008207072414734284\n",
            "Epoch 89, GRU Training Loss: 0.0008373112068511546\n",
            "Epoch 90, GRU Training Loss: 0.0010603657647152431\n",
            "Epoch 91, GRU Training Loss: 0.006297370084212162\n",
            "Epoch 92, GRU Training Loss: 0.002064059142867336\n",
            "Epoch 93, GRU Training Loss: 0.010058879906864604\n",
            "Epoch 94, GRU Training Loss: 0.006580201761607896\n",
            "Epoch 95, GRU Training Loss: 0.0065524213587195845\n",
            "Epoch 96, GRU Training Loss: 0.002126453906384995\n",
            "Epoch 97, GRU Training Loss: 0.002452801931212889\n",
            "Epoch 98, GRU Training Loss: 0.001166124679002678\n",
            "Epoch 99, GRU Training Loss: 0.0011942026121687377\n",
            "Epoch 100, GRU Training Loss: 0.0015160160492087016\n"
          ]
        }
      ]
    },
    {
      "cell_type": "markdown",
      "source": [
        "Getting predictions as well as measuring performance of the GRU Model"
      ],
      "metadata": {
        "id": "58PTU48lEggN"
      }
    },
    {
      "cell_type": "code",
      "source": [
        "# Will use the updated GRU model \n",
        "\n",
        "X_test_tensor = torch.from_numpy(X_test).float()\n",
        "y_test_tensor = torch.from_numpy(y_test)\n",
        "batch_size = 128\n",
        "\n",
        "# Evaluating the model on test set (1000 datapoints)\n",
        "with torch.no_grad():  #disabling gradient calculation (as inferencing)\n",
        "    \n",
        "    # Split the data into batches of size batch_size\n",
        "    num_batches = len(X_test_tensor) // batch_size\n",
        "    test_data_batches = torch.split(X_test_tensor[:num_batches*batch_size], batch_size)\n",
        "    test_label_batches = torch.split(y_test_tensor[:num_batches*batch_size], batch_size)\n",
        "    \n",
        "\n",
        "    test_loss = 0.0\n",
        "    num_batches = 0\n",
        "\n",
        "    # Making predictions for each batch\n",
        "    for test_data, test_labels in zip(test_data_batches, test_label_batches):\n",
        "        \n",
        "        # Pass the test data through the GRU model, updated by training \n",
        "        outputs = model(test_data)\n",
        "\n",
        "        # Computing the MSE between predicted outputs and Ground truth labels\n",
        "        loss = nn.MSELoss()(outputs, test_labels)\n",
        "        \n",
        "        # Accumulating the loss\n",
        "        test_loss += loss.item()\n",
        "        num_batches += 1\n",
        "\n",
        "\n",
        "# Computing the average test loss over all batches\n",
        "test_loss /= num_batches\n",
        "\n",
        "print(\"Test Loss for GRU: {:.6f}\".format(test_loss))\n",
        "gru_mse = test_loss"
      ],
      "metadata": {
        "colab": {
          "base_uri": "https://localhost:8080/"
        },
        "id": "0PeOF5OTBkLl",
        "outputId": "9ec1d0f4-b70d-4af5-e8bc-b86998b3ab8d"
      },
      "execution_count": 88,
      "outputs": [
        {
          "output_type": "stream",
          "name": "stdout",
          "text": [
            "Test Loss for GRU: 0.000037\n"
          ]
        }
      ]
    },
    {
      "cell_type": "code",
      "source": [],
      "metadata": {
        "id": "Gy1FgbaDB0YU"
      },
      "execution_count": null,
      "outputs": []
    },
    {
      "cell_type": "markdown",
      "source": [
        "# **Baseline**"
      ],
      "metadata": {
        "id": "I__8x7C_G1Xp"
      }
    },
    {
      "cell_type": "code",
      "source": [
        "# Baseline that always predicts the sum as 1\n",
        "def Baseline(X_test_tensor):\n",
        "  batch_size = test_data.shape[0]\n",
        "  output = torch.ones(batch_size,1)\n",
        "  return output\n",
        "\n",
        "\n"
      ],
      "metadata": {
        "id": "hwGDfeSjB0b1"
      },
      "execution_count": 89,
      "outputs": []
    },
    {
      "cell_type": "markdown",
      "source": [
        "Getting predictions as well as measuring performance of the Baseline"
      ],
      "metadata": {
        "id": "GCUoo-pBPPwn"
      }
    },
    {
      "cell_type": "code",
      "source": [
        "\n",
        "\n",
        "X_test_tensor = torch.from_numpy(X_test).float()\n",
        "y_test_tensor = torch.from_numpy(y_test)\n",
        "batch_size = 128\n",
        "\n",
        "# Evaluating the Baseline on test set (1000 datapoints)\n",
        "with torch.no_grad():  #disabling gradient calculation (as inferencing)\n",
        "    \n",
        "    # Split the data into batches of size batch_size\n",
        "    num_batches = len(X_test_tensor) // batch_size\n",
        "    test_data_batches = torch.split(X_test_tensor[:num_batches*batch_size], batch_size)\n",
        "    test_label_batches = torch.split(y_test_tensor[:num_batches*batch_size], batch_size)\n",
        "    \n",
        "\n",
        "    test_loss = 0.0\n",
        "    num_batches = 0\n",
        "\n",
        "    # Making predictions for each batch\n",
        "    for test_data, test_labels in zip(test_data_batches, test_label_batches):\n",
        "        \n",
        "        # Pass the test data through the baseline\n",
        "        outputs = Baseline(test_data)\n",
        "\n",
        "        # Computing the MSE between predicted outputs and Ground truth labels\n",
        "        loss = nn.MSELoss()(outputs, test_labels)\n",
        "        \n",
        "        # Accumulating the loss\n",
        "        test_loss += loss.item()\n",
        "        num_batches += 1\n",
        "\n",
        "\n",
        "# Computing the average test loss over all batches\n",
        "test_loss /= num_batches\n",
        "\n",
        "print(\"Test Loss for Baseline: {:.6f}\".format(test_loss))\n",
        "base_mse = test_loss"
      ],
      "metadata": {
        "colab": {
          "base_uri": "https://localhost:8080/"
        },
        "id": "_WbOyx2eJj63",
        "outputId": "469275e4-298f-4fd8-85b6-2518570258cb"
      },
      "execution_count": 90,
      "outputs": [
        {
          "output_type": "stream",
          "name": "stdout",
          "text": [
            "Test Loss for Baseline: 0.173563\n"
          ]
        }
      ]
    },
    {
      "cell_type": "code",
      "source": [],
      "metadata": {
        "id": "QiRA3krxO6YL"
      },
      "execution_count": null,
      "outputs": []
    },
    {
      "cell_type": "markdown",
      "source": [
        "# **Comparing the performance of all the models by plotting their learning curves and final performance** "
      ],
      "metadata": {
        "id": "MoJav3WkMfeC"
      }
    },
    {
      "cell_type": "code",
      "source": [
        "\n",
        "# Plotting learning curves (As Baseline model do not need learning, its curve is not present here)\n",
        "plt.plot(elman_losses, label='Elman')\n",
        "plt.plot(lstm_losses, label='LSTM')\n",
        "plt.plot(gru_losses, label='GRU')\n",
        "plt.legend()\n",
        "plt.xlabel('Epoch')\n",
        "plt.ylabel('Training Loss (MSE)')\n",
        "plt.title('Learning Curves')\n",
        "plt.show()\n",
        "\n",
        "# Plotting final performance\n",
        "plt.bar(['Baseline', 'Elman', 'LSTM', 'GRU'], [base_mse, elman_mse, lstm_mse, gru_mse])\n",
        "plt.ylabel('MSE')\n",
        "plt.title('Final Performance (Test Loss)')\n",
        "plt.show()\n"
      ],
      "metadata": {
        "colab": {
          "base_uri": "https://localhost:8080/",
          "height": 907
        },
        "id": "HWKe9484MZom",
        "outputId": "141faaf7-5bf2-41f1-d928-36237c821864"
      },
      "execution_count": 91,
      "outputs": [
        {
          "output_type": "display_data",
          "data": {
            "text/plain": [
              "<Figure size 640x480 with 1 Axes>"
            ],
            "image/png": "[encoded data removed]"
          },
          "metadata": {}
        },
        {
          "output_type": "display_data",
          "data": {
            "text/plain": [
              "<Figure size 640x480 with 1 Axes>"
            ],
            "image/png": "[encoded data removed]"
          },
          "metadata": {}
        }
      ]
    },
    {
      "cell_type": "code",
      "source": [],
      "metadata": {
        "id": "y8bctLn0BkPc"
      },
      "execution_count": null,
      "outputs": []
    }
  ]
}